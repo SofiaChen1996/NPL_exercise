{
 "cells": [
  {
   "cell_type": "markdown",
   "metadata": {},
   "source": [
    "# Lab 1: Read Words and Generate Them Randomly"
   ]
  },
  {
   "cell_type": "markdown",
   "metadata": {},
   "source": [
    "## 0. Import nltk\n",
    "\n",
    "You will be relying on some tools from nltk in this lab. <a href=https://www.nltk.org>Here</a> is some documentation and resources."
   ]
  },
  {
   "cell_type": "code",
   "execution_count": 2,
   "metadata": {},
   "outputs": [],
   "source": [
    "# uncomment if you need to install nltk\n",
    "#!pip install nltk\n",
    "import nltk\n",
    "\n",
    "#nltk.download()"
   ]
  },
  {
   "cell_type": "code",
   "execution_count": 3,
   "metadata": {},
   "outputs": [],
   "source": [
    "# uncomment if you get an ssl error downloading\n",
    "#import nltk\n",
    "#import ssl\n",
    "\n",
    "#try:\n",
    "#    _create_unverified_https_context = ssl._create_unverified_context\n",
    "#except AttributeError:\n",
    "#    pass\n",
    "#else:\n",
    "#    ssl._create_default_https_context = _create_unverified_https_context\n",
    "\n",
    "#nltk.download()"
   ]
  },
  {
   "cell_type": "code",
   "execution_count": null,
   "metadata": {},
   "outputs": [],
   "source": []
  },
  {
   "cell_type": "markdown",
   "metadata": {},
   "source": [
    "## 1. Read Complete Works of Shakespeare\n",
    "\n",
    "The text file is here:\n",
    "https://ocw.mit.edu/ans7870/6/6.006/s08/lecturenotes/files/t8.shakespeare.txt\n",
    "\n",
    "Download it and read the file"
   ]
  },
  {
   "cell_type": "code",
   "execution_count": 4,
   "metadata": {},
   "outputs": [],
   "source": [
    "\n"
   ]
  },
  {
   "cell_type": "markdown",
   "metadata": {},
   "source": [
    "## 2. Tokenize Shakespeare\n",
    "\n",
    "Convert the raw text into a list of tokens, using word_tokenize from nltk.|"
   ]
  },
  {
   "cell_type": "code",
   "execution_count": 4,
   "metadata": {},
   "outputs": [],
   "source": []
  },
  {
   "cell_type": "markdown",
   "metadata": {},
   "source": [
    "## 3. Word Types and Tokens\n",
    "\n",
    "How Many Word Tokens Are There? You can see this by checking the length of the list of tokens. How many word <i>types</i> are there? To do this you count each word only once, regardless of how many types it occurs. \n",
    "\n"
   ]
  },
  {
   "cell_type": "code",
   "execution_count": null,
   "metadata": {},
   "outputs": [],
   "source": []
  },
  {
   "cell_type": "markdown",
   "metadata": {},
   "source": [
    "## 4. Random Text Generator\n",
    "\n",
    "Write a function that generates a sequence of randomly chosen words from a text. The function takes two arguments:\n",
    "<ul>\n",
    "    <li>text: a list of words</li>\n",
    "    <li>n: the number of words to output</li>\n",
    "</ul>\n",
    "You should write your generator so that it favors more frequent words: the likelihood of each word should be dependent on how many times it occurs.    \n",
    "   \n",
    "    "
   ]
  },
  {
   "cell_type": "code",
   "execution_count": 9,
   "metadata": {},
   "outputs": [],
   "source": []
  },
  {
   "cell_type": "markdown",
   "metadata": {},
   "source": [
    "## 5. Random Text Generator: Second Version\n",
    "\n",
    "Write a function that generates a sequence of randomly chosen words from a text. The function takes two arguments:\n",
    "<ul>\n",
    "    <li>text: a list of words</li>\n",
    "    <li>n: the number of words to output</li>\n",
    "</ul>\n",
    "For the second version each word occurring in text should be equally likely to be chosen, regardless of how often it occurs in text.  \n",
    "   \n",
    "    "
   ]
  },
  {
   "cell_type": "code",
   "execution_count": null,
   "metadata": {},
   "outputs": [],
   "source": []
  },
  {
   "cell_type": "markdown",
   "metadata": {},
   "source": [
    "## 6. Text Generator Versions\n",
    "\n",
    "Which version of the generator produces more natural texts?"
   ]
  },
  {
   "cell_type": "markdown",
   "metadata": {},
   "source": []
  },
  {
   "cell_type": "markdown",
   "metadata": {},
   "source": [
    "## 7. Problems with the Text Generator\n",
    "\n",
    "Point out at least two (simple) problems with the outputs. (This won't be hard -- the outputs are terrible!) "
   ]
  },
  {
   "cell_type": "markdown",
   "metadata": {},
   "source": []
  },
  {
   "cell_type": "markdown",
   "metadata": {},
   "source": [
    "## 8. Improve the Text Generator\n",
    "\n",
    "Select some problems that are simple enough to fix. Implement fixes to some of those problems."
   ]
  },
  {
   "cell_type": "code",
   "execution_count": null,
   "metadata": {},
   "outputs": [],
   "source": []
  },
  {
   "cell_type": "markdown",
   "metadata": {},
   "source": [
    "## 9. Generate with Different Text Corpus\n",
    "\n",
    "Select a book from the Gutenberg collection. You can get the url by searching the catalog <a href=https://www.gutenberg.org/ebooks/>here</a>. Then you can read the text by downloading the file and reading it as you did with the Shakespeare. Or you can just access it from the url, with <i>urlopen</i>. (The NLTK <a href=https://www.nltk.org/book/ch03.html>Chapter 3 page</a> gives an example of this.)"
   ]
  },
  {
   "cell_type": "code",
   "execution_count": null,
   "metadata": {},
   "outputs": [],
   "source": []
  }
 ],
 "metadata": {
  "kernelspec": {
   "display_name": "Python 3 (ipykernel)",
   "language": "python",
   "name": "python3"
  },
  "language_info": {
   "codemirror_mode": {
    "name": "ipython",
    "version": 3
   },
   "file_extension": ".py",
   "mimetype": "text/x-python",
   "name": "python",
   "nbconvert_exporter": "python",
   "pygments_lexer": "ipython3",
   "version": "3.10.6"
  }
 },
 "nbformat": 4,
 "nbformat_minor": 2
}
